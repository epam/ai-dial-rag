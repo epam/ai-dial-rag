{
 "cells": [
  {
   "cell_type": "markdown",
   "id": "90b4e061",
   "metadata": {},
   "source": [
    "# Indexing API Example\n",
    "\n",
    "This notebook demonstrates how to use the Indexing API of the Dial RAG application.\n",
    "\n",
    "Dial RAG can automatically run indexing for a new documents it sees in RAG or retrieval requests. However, you can also manually index documents using the Indexing API. It may be useful if you know the document in advance and do not want to wait for the automatic indexing during the first request, or if you want to attribute the costs of the indexing to a separate Dial API-Key. Also, the indexing API allows you to manually manage the path to the index storage, which can be useful if you have some custom pipeline which involves copying/moving the documents after indexing.\n",
    "\n",
    "\n",
    "This notebook provides a step-by-step example which covers uploading files to Dial, calling Dial RAG Indexing API to index the files, describes the results of the indexing, and demonstrates how to use the custom paths to the index files in the Dial storage."
   ]
  },
  {
   "cell_type": "markdown",
   "id": "3b9caaa9",
   "metadata": {},
   "source": [
    "## Setup\n",
    "\n",
    "Install the dependencies we are going to use in this example:"
   ]
  },
  {
   "cell_type": "code",
   "execution_count": null,
   "id": "a9b848fe",
   "metadata": {},
   "outputs": [],
   "source": [
    "!pip install -q openai==1.68.2\n",
    "!pip install -q requests==2.32.3\n",
    "!pip install -q python-dotenv==1.0.1"
   ]
  },
  {
   "cell_type": "markdown",
   "id": "618399ed",
   "metadata": {},
   "source": [
    "Import the packages we are going to use:"
   ]
  },
  {
   "cell_type": "code",
   "execution_count": 1,
   "id": "cd5424a1",
   "metadata": {},
   "outputs": [],
   "source": [
    "import json\n",
    "import os\n",
    "\n",
    "import requests\n",
    "from dotenv import load_dotenv\n",
    "from openai import AzureOpenAI"
   ]
  },
  {
   "cell_type": "markdown",
   "id": "16d2bc24",
   "metadata": {},
   "source": [
    "Load `DIAL_URL` and `DIAL_API_KEY` from .env file to access the Dial RAG API. We need `DIAL_URL` to connect to the Dial RAG API and `DIAL_API_KEY` to authenticate our requests.\n",
    "\n",
    "**Note**: we use pre-defined API Key written in `.env` file in this example. For a production applications it is recommended to use per-request key issued by Dial Core for a single request to your application. For more details, see [Per-request key](https://docs.dialx.ai/platform/core/per-request-keys)."
   ]
  },
  {
   "cell_type": "code",
   "execution_count": 2,
   "id": "b22bf906",
   "metadata": {},
   "outputs": [],
   "source": [
    "load_dotenv(override=True)\n",
    "\n",
    "dial_url = os.environ[\"DIAL_URL\"]\n",
    "api_key = os.environ[\"DIAL_API_KEY\"]"
   ]
  },
  {
   "cell_type": "markdown",
   "id": "effdba30",
   "metadata": {},
   "source": [
    "Helper function to upload files to Dial. See [Uploading file to the DIAL file storage](https://docs.dialx.ai/tutorials/developers/apps-development/multimodality/dial-cookbook/examples/how_to_call_image_to_text_applications#uploading-file-to-the-dial-file-storage) for more details."
   ]
  },
  {
   "cell_type": "code",
   "execution_count": 3,
   "id": "32ca8355",
   "metadata": {},
   "outputs": [
    {
     "name": "stdout",
     "output_type": "stream",
     "text": [
      "Bucket: 6iTkeGUs2CvUehhYLmMYXB\n"
     ]
    }
   ],
   "source": [
    "bucket = requests.get(\n",
    "    f\"{dial_url}/v1/bucket\",\n",
    "    headers={\"Api-Key\": api_key},\n",
    "    timeout=30,\n",
    ").json()[\"bucket\"]\n",
    "\n",
    "\n",
    "def upload_file_to_dial(bucket: str, filename: str, content_type: str):\n",
    "    with open(filename, \"rb\") as file:\n",
    "        metadata = requests.put(\n",
    "            f\"{dial_url}/v1/files/{bucket}/data/{os.path.basename(filename)}\",\n",
    "            headers={\"Api-Key\": api_key},\n",
    "            files={\"file\": (os.path.basename(filename), file, content_type)},\n",
    "            timeout=30,\n",
    "        ).json()\n",
    "    return {\"type\": metadata[\"contentType\"], \"url\": metadata[\"url\"]}\n",
    "\n",
    "\n",
    "print(f\"Bucket: {bucket}\")"
   ]
  },
  {
   "cell_type": "markdown",
   "id": "0c14f6ef",
   "metadata": {},
   "source": [
    "## Indexing\n",
    "\n",
    "For this example we will use two files from the test data:\n",
    "- alps_wiki.pdf - pdf file with wikipedia article about the Alps. This file will be successfully indexed by the Dial RAG and will be used to demonstrate how to use it in Dial RAG requests.\n",
    "- test_file.csv - the unsupported CSV file with some test data. This CSV file has different number of columns in each row and cannot be parsed as a single table, which is currently not supported by the Dial RAG. This file will help to demonstrate error handling.\n",
    "\n",
    "The files should be uploaded to the Dial before we can use them in the Dial RAG indexing API. Let's upload the files to the Dial:"
   ]
  },
  {
   "cell_type": "code",
   "execution_count": 4,
   "id": "05b9170a",
   "metadata": {},
   "outputs": [
    {
     "name": "stdout",
     "output_type": "stream",
     "text": [
      "PDF file uploaded: {'type': 'application/pdf', 'url': 'files/6iTkeGUs2CvUehhYLmMYXB/data/alps_wiki.pdf'}\n",
      "Unsupported CSV file uploaded: {'type': 'text/csv', 'url': 'files/6iTkeGUs2CvUehhYLmMYXB/data/test_file.csv'}\n"
     ]
    }
   ],
   "source": [
    "pdf_file_attachment = upload_file_to_dial(\n",
    "    bucket, \"../tests/data/alps_wiki.pdf\", content_type=\"application/pdf\"\n",
    ")\n",
    "unsupported_csv_file_attachment = upload_file_to_dial(\n",
    "    bucket, \"../tests/data/test_file.csv\", content_type=\"text/csv\"\n",
    ")\n",
    "\n",
    "print(f\"PDF file uploaded: {pdf_file_attachment}\")\n",
    "print(f\"Unsupported CSV file uploaded: {unsupported_csv_file_attachment}\")"
   ]
  },
  {
   "cell_type": "markdown",
   "id": "f9406120",
   "metadata": {},
   "source": [
    "We can use AzureOpenAI client to make a request to the Dial RAG indexing API.\n",
    "For more ways to call the Dial RAG, you can follow the examples for the ways to call Dial applications [How to call image-to-text applications](https://docs.dialx.ai/tutorials/developers/apps-development/multimodality/dial-cookbook/examples/how_to_call_image_to_text_applications) and adapt the code accordingly.\n",
    "\n",
    "To make an indexing request, you need to specify `request.type` as `indexing` in the `custom_fields.configuration`."
   ]
  },
  {
   "cell_type": "code",
   "execution_count": 5,
   "id": "27d67b6f",
   "metadata": {},
   "outputs": [],
   "source": [
    "# Initialize the Azure OpenAI client\n",
    "client = AzureOpenAI(\n",
    "    azure_endpoint=dial_url,\n",
    "    api_key=api_key,\n",
    "    api_version=\"2024-10-21\",\n",
    ")\n",
    "\n",
    "\n",
    "# Send a indexing request\n",
    "response = client.chat.completions.create(\n",
    "    model=\"dial-rag\",\n",
    "    messages=[\n",
    "        {\n",
    "            \"role\": \"user\",\n",
    "            \"custom_content\": {\n",
    "                \"attachments\": [\n",
    "                    pdf_file_attachment,\n",
    "                    unsupported_csv_file_attachment,\n",
    "                ],\n",
    "            },\n",
    "        }\n",
    "    ],\n",
    "    extra_body={\n",
    "        \"custom_fields\": {\n",
    "            \"configuration\": {\n",
    "                \"request\": {\n",
    "                    \"type\": \"indexing\",\n",
    "                }\n",
    "            }\n",
    "        }\n",
    "    },\n",
    "    stream=False,  # We can set stream=True, but we will need to assemble the response JSON from streamed chunks\n",
    ")"
   ]
  },
  {
   "cell_type": "markdown",
   "id": "a0ce9be2",
   "metadata": {},
   "source": [
    "The response will contain the attachments with `type` equal to `application/x.aidial-rag-index.v0` pointing to the the resulting indexing files. The `reference_url` field in the attachment will contain the URL to the original document file."
   ]
  },
  {
   "cell_type": "code",
   "execution_count": 6,
   "id": "85fb5c70",
   "metadata": {},
   "outputs": [
    {
     "data": {
      "text/plain": [
       "{'type': 'application/x.aidial-rag-index.v0',\n",
       " 'url': 'files/DaEaz3wZq4g26J5J7BPmGC/dial-rag-index/cbfce81c/02c84941/80408552/957d0c77/dbad09f5/85ab2c5c/56b3acbc/5fd03e99/index.bin',\n",
       " 'reference_url': 'files/6iTkeGUs2CvUehhYLmMYXB/data/alps_wiki.pdf'}"
      ]
     },
     "execution_count": 6,
     "metadata": {},
     "output_type": "execute_result"
    }
   ],
   "source": [
    "response_attachments = response.choices[0].message.custom_content[\"attachments\"]\n",
    "\n",
    "pdf_index_attachment = next(\n",
    "    (\n",
    "        attachment\n",
    "        for attachment in response_attachments\n",
    "        if attachment[\"type\"] == \"application/x.aidial-rag-index.v0\"\n",
    "    ),\n",
    "    None,\n",
    ")\n",
    "pdf_index_attachment"
   ]
  },
  {
   "cell_type": "markdown",
   "id": "5f43f37e",
   "metadata": {},
   "source": [
    "The response also contains the indexing result in the `application/x.aidial-rag.indexing-response+json` attachment which could be used to get an error message in case of indexing failure for some of the documents."
   ]
  },
  {
   "cell_type": "code",
   "execution_count": 7,
   "id": "c09923cd",
   "metadata": {},
   "outputs": [
    {
     "name": "stdout",
     "output_type": "stream",
     "text": [
      "{'indexing_result': {'files/6iTkeGUs2CvUehhYLmMYXB/data/test_file.csv': {'errors': [{'message': 'Unable to load document content. Try another document format.'}]}}}\n"
     ]
    }
   ],
   "source": [
    "indexing_result_attachment = next(\n",
    "    (\n",
    "        attachment\n",
    "        for attachment in response_attachments\n",
    "        if attachment[\"type\"]\n",
    "        == \"application/x.aidial-rag.indexing-response+json\"\n",
    "    ),\n",
    "    None,\n",
    ")\n",
    "print(json.loads(indexing_result_attachment[\"data\"]))"
   ]
  },
  {
   "cell_type": "markdown",
   "id": "b85376bc",
   "metadata": {},
   "source": [
    "## Custom path for indexing files\n",
    "\n",
    "You can use the same indexing attachment format to specify a custom path for the indexing files. This is useful if your application need to manage the indexing files by itself. For example, it you want to pre-index some document and you need to copy the index file and the document to some other location (for example, during the publishing of your application).\n",
    "\n",
    "To do this, the attachment should have `type` equal to `application/x.aidial-rag-index.v0`, `reference_url` pointing to the url original document file, and `url` pointing to the desired relative url for the indexing files.\n",
    "\n",
    "**Note**: the Dial RAG should have write access to the index file path specified in the request. For this example we use `appdata/dial-rag` in our bucket which will be available for Dial RAG with write access. See [Files sharing](https://docs.dialx.ai/platform/core/per-request-keys#files-sharing) for more details on how to share an access to the files in the Dial."
   ]
  },
  {
   "cell_type": "code",
   "execution_count": 8,
   "id": "575b0722",
   "metadata": {},
   "outputs": [],
   "source": [
    "pdf_index_with_custom_path = {\n",
    "    \"type\": \"application/x.aidial-rag-index.v0\",\n",
    "    \"reference_url\": pdf_file_attachment[\"url\"],\n",
    "    \"url\": f\"files/{bucket}/appdata/dial-rag/custom_index.bin\",\n",
    "}\n",
    "\n",
    "response = client.chat.completions.create(\n",
    "    model=\"dial-rag\",\n",
    "    messages=[\n",
    "        {\n",
    "            \"role\": \"user\",\n",
    "            \"custom_content\": {\n",
    "                \"attachments\": [\n",
    "                    pdf_file_attachment,\n",
    "                    pdf_index_with_custom_path,\n",
    "                ],\n",
    "            },\n",
    "        }\n",
    "    ],\n",
    "    extra_body={\n",
    "        \"custom_fields\": {\n",
    "            \"configuration\": {\n",
    "                \"request\": {\n",
    "                    \"type\": \"indexing\",\n",
    "                }\n",
    "            }\n",
    "        }\n",
    "    },\n",
    "    stream=False,\n",
    ")"
   ]
  },
  {
   "cell_type": "code",
   "execution_count": 9,
   "id": "66f2fdd6",
   "metadata": {},
   "outputs": [
    {
     "data": {
      "text/plain": [
       "[{'type': 'application/x.aidial-rag-index.v0',\n",
       "  'url': 'files/6iTkeGUs2CvUehhYLmMYXB/appdata/dial-rag/custom_index.bin',\n",
       "  'reference_url': 'files/6iTkeGUs2CvUehhYLmMYXB/data/alps_wiki.pdf'},\n",
       " {'type': 'application/x.aidial-rag.indexing-response+json',\n",
       "  'title': 'Indexing results',\n",
       "  'data': '{\"indexing_result\":{}}'}]"
      ]
     },
     "execution_count": 9,
     "metadata": {},
     "output_type": "execute_result"
    }
   ],
   "source": [
    "response_attachments = response.choices[0].message.custom_content[\"attachments\"]\n",
    "response_attachments"
   ]
  },
  {
   "cell_type": "markdown",
   "id": "06a192ea",
   "metadata": {},
   "source": [
    "## Using custom index path in requests\n",
    "\n",
    "You can use the same indexing attachment format to specify a custom path for the indexing files for the the rag requests."
   ]
  },
  {
   "cell_type": "code",
   "execution_count": 10,
   "id": "45af29f9",
   "metadata": {},
   "outputs": [
    {
     "name": "stdout",
     "output_type": "stream",
     "text": [
      "The highest mountain in the Alps is Mont Blanc, which spans the French-Italian border and has an elevation of 4,810 meters (15,781 feet) [1].\n"
     ]
    }
   ],
   "source": [
    "rag_response = client.chat.completions.create(\n",
    "    model=\"dial-rag\",\n",
    "    messages=[\n",
    "        {\n",
    "            \"role\": \"user\",\n",
    "            \"content\": \"What is the highest mountain in the Alps?\",\n",
    "            \"custom_content\": {\n",
    "                \"attachments\": [\n",
    "                    pdf_file_attachment,\n",
    "                    pdf_index_with_custom_path,\n",
    "                ],\n",
    "            },\n",
    "        }\n",
    "    ],\n",
    "    stream=False,\n",
    ")\n",
    "\n",
    "print(rag_response.choices[0].message.content)"
   ]
  },
  {
   "cell_type": "markdown",
   "id": "55ddfc6f",
   "metadata": {},
   "source": [
    "You can use the same indexing attachment format for a retrieval requests as well:"
   ]
  },
  {
   "cell_type": "code",
   "execution_count": 11,
   "id": "36e0cc4d",
   "metadata": {},
   "outputs": [
    {
     "name": "stdout",
     "output_type": "stream",
     "text": [
      "{'attachment_url': 'files/6iTkeGUs2CvUehhYLmMYXB/data/alps_wiki.pdf', 'source': {'url': 'files/6iTkeGUs2CvUehhYLmMYXB/data/alps_wiki.pdf#page=1', 'display_name': 'data/alps_wiki.pdf'}, 'text': 'cantly from the current revision.\\n\\nTemplate:Lang-it The Template:IPA-it; Template:Lang-fr Template:IPA- fr; Template:IPA-de; Template:Lang-sl Template:IPA-sl) are the highest and most extensive mountain range system that lies entirely in Europe,[1] stretching approximately 1,200 kilometres (750 mi) across eight Alpine Italy, countries: Austria, France, Germany, Liechtenstein, and Slovenia, Switzerland.[2] The Caucasus Mountains are higher, and the Urals longer, but both lie partly in Asia. The mountains were formed over tens of millions of years as the African and Eurasian tectonic plates collided. Extreme shortening caused by in marine sedimentary rocks rising by thrusting and folding into high mountain peaks such as Mont Blanc and the Matterhorn. Mont Blanc spans the French– Italian border, and at 4,810 m (15,781 ft) is the highest mountain in the Alps. The Alpine region area contains about a hundred peaks higher than the \"four- 4,000 m (13,123 thousanders\".', 'page': {'number': 1, 'image_index': 0}}\n"
     ]
    }
   ],
   "source": [
    "retrieval_response = client.chat.completions.create(\n",
    "    model=\"dial-rag\",\n",
    "    messages=[\n",
    "        {\n",
    "            \"role\": \"user\",\n",
    "            \"content\": \"What is the highest mountain in the Alps?\",\n",
    "            \"custom_content\": {\n",
    "                \"attachments\": [\n",
    "                    pdf_file_attachment,\n",
    "                    pdf_index_with_custom_path,\n",
    "                ],\n",
    "            },\n",
    "        }\n",
    "    ],\n",
    "    extra_body={\n",
    "        \"custom_fields\": {\n",
    "            \"configuration\": {\n",
    "                \"request\": {\n",
    "                    \"type\": \"retrieval\",\n",
    "                }\n",
    "            }\n",
    "        },\n",
    "    },\n",
    "    stream=False,  # We can set stream=True, but we will need to assemble the response JSON from streamed chunks\n",
    ")\n",
    "\n",
    "retrieval_attachments = retrieval_response.choices[0].message.custom_content[\n",
    "    \"attachments\"\n",
    "]\n",
    "print(json.loads(retrieval_attachments[0][\"data\"])[\"chunks\"][0])"
   ]
  }
 ],
 "metadata": {
  "kernelspec": {
   "display_name": ".venv",
   "language": "python",
   "name": "python3"
  },
  "language_info": {
   "codemirror_mode": {
    "name": "ipython",
    "version": 3
   },
   "file_extension": ".py",
   "mimetype": "text/x-python",
   "name": "python",
   "nbconvert_exporter": "python",
   "pygments_lexer": "ipython3",
   "version": "3.11.12"
  }
 },
 "nbformat": 4,
 "nbformat_minor": 5
}
